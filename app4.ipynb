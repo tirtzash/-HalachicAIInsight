{
 "cells": [
  {
   "cell_type": "code",
   "execution_count": 4,
   "metadata": {},
   "outputs": [
    {
     "name": "stderr",
     "output_type": "stream",
     "text": [
      "C:\\Users\\User\\AppData\\Local\\Packages\\PythonSoftwareFoundation.Python.3.12_qbz5n2kfra8p0\\LocalCache\\local-packages\\Python312\\site-packages\\tqdm\\auto.py:21: TqdmWarning: IProgress not found. Please update jupyter and ipywidgets. See https://ipywidgets.readthedocs.io/en/stable/user_install.html\n",
      "  from .autonotebook import tqdm as notebook_tqdm\n",
      "C:\\Users\\User\\AppData\\Local\\Packages\\PythonSoftwareFoundation.Python.3.12_qbz5n2kfra8p0\\LocalCache\\local-packages\\Python312\\site-packages\\transformers\\tokenization_utils_base.py:1601: FutureWarning: `clean_up_tokenization_spaces` was not set. It will be set to `True` by default. This behavior will be depracted in transformers v4.45, and will be then set to `False` by default. For more details check this issue: https://github.com/huggingface/transformers/issues/31884\n",
      "  warnings.warn(\n",
      "Some weights of BertModel were not initialized from the model checkpoint at avichr/heBERT and are newly initialized: ['bert.pooler.dense.bias', 'bert.pooler.dense.weight']\n",
      "You should probably TRAIN this model on a down-stream task to be able to use it for predictions and inference.\n"
     ]
    }
   ],
   "source": [
    "import json\n",
    "import torch\n",
    "import faiss\n",
    "import numpy as np\n",
    "from transformers import AutoTokenizer, BertModel\n",
    "\n",
    "# הגדרת המודל והטוקנייזר של heBERT\n",
    "model_name = \"avichr/heBERT\"\n",
    "tokenizer = AutoTokenizer.from_pretrained(model_name)\n",
    "model = BertModel.from_pretrained(model_name)\n",
    "\n"
   ]
  },
  {
   "cell_type": "code",
   "execution_count": 14,
   "metadata": {},
   "outputs": [],
   "source": [
    "# פונקציה ליצירת embeddings\n",
    "def embeddingVectors(text):\n",
    "    print(text)\n",
    "    encoding = tokenizer.batch_encode_plus(\n",
    "        text,  # List of input texts\n",
    "        padding=True,  # Pad to the maximum sequence length\n",
    "        truncation=True,  # Truncate to the maximum sequence length if necessary\n",
    "        return_tensors='pt',  # Return PyTorch tensors\n",
    "        add_special_tokens=True  # Add special tokens CLS and SEP\n",
    "    )\n",
    "    input_ids = encoding['input_ids']  # Token IDs\n",
    "    attention_mask = encoding['attention_mask']  # Attention mask\n",
    "\n",
    "    with torch.no_grad():\n",
    "        outputs = model(input_ids, attention_mask=attention_mask)\n",
    "        word_embeddings = outputs.last_hidden_state  # (batch_size, sequence_length, embedding_dim)\n",
    "        # החזרת ה-embedding של ה-CLS token\n",
    "        sentence_embedding = word_embeddings[:, 0, :]  # בחירת האיבר הראשון בכל רצף (CLS token)\n",
    "    return sentence_embedding  # This contains the embeddings\n",
    "\n"
   ]
  },
  {
   "cell_type": "code",
   "execution_count": 6,
   "metadata": {},
   "outputs": [
    {
     "name": "stdout",
     "output_type": "stream",
     "text": [
      "5158\n"
     ]
    }
   ],
   "source": [
    "# קריאת הקובץ JSON\n",
    "import json\n",
    "with open('sample_data/פרי גני שוע.json', 'r', encoding='utf-8') as file:\n",
    "    data = json.load(file)\n",
    "\n",
    "# שליפת כל השאלות מהקובץ\n",
    "questions = []\n",
    "for book in data['contain'].values():\n",
    "    for chapter in book.values():\n",
    "        for verse in chapter.values():\n",
    "            for qa in verse:\n",
    "                questions.append(qa['question'])\n",
    "\n",
    "print(len(questions))"
   ]
  },
  {
   "cell_type": "code",
   "execution_count": 7,
   "metadata": {},
   "outputs": [],
   "source": [
    "import pickle\n",
    "import os\n",
    "\n",
    "def save_to_pickle(data, filename):\n",
    "    with open(filename, 'wb') as f:\n",
    "        pickle.dump(data, f)\n",
    "    print(f\"Data saved to {filename}\")\n",
    "\n",
    "def load_from_pickle(filename):\n",
    "    if os.path.exists(filename):\n",
    "        with open(filename, 'rb') as f:\n",
    "            data = pickle.load(f)\n",
    "        print(f\"Data loaded from {filename}\")\n",
    "        return data\n",
    "    else:\n",
    "        print(f\"File {filename} not found!\")\n",
    "        return None"
   ]
  },
  {
   "cell_type": "code",
   "execution_count": 8,
   "metadata": {},
   "outputs": [
    {
     "ename": "NameError",
     "evalue": "name 'i' is not defined",
     "output_type": "error",
     "traceback": [
      "\u001b[1;31m---------------------------------------------------------------------------\u001b[0m",
      "\u001b[1;31mNameError\u001b[0m                                 Traceback (most recent call last)",
      "Cell \u001b[1;32mIn[8], line 4\u001b[0m\n\u001b[0;32m      1\u001b[0m \u001b[38;5;66;03m# # צייני את הנתיב לקובץ שברצונך להוריד\u001b[39;00m\n\u001b[0;32m      2\u001b[0m \u001b[38;5;66;03m# files.download(\"sample_data/embeddings_step1heBERT.pkl\")\u001b[39;00m\n\u001b[0;32m      3\u001b[0m \u001b[38;5;66;03m# print(f\"עיבוד ושמירת חלק {i+1} הסתיים בהצלחה.\")\u001b[39;00m\n\u001b[1;32m----> 4\u001b[0m \u001b[38;5;28mprint\u001b[39m(\u001b[43mi\u001b[49m)\n",
      "\u001b[1;31mNameError\u001b[0m: name 'i' is not defined"
     ]
    }
   ],
   "source": [
    "# # צייני את הנתיב לקובץ שברצונך להוריד\n",
    "# files.download(\"sample_data/embeddings_step1heBERT.pkl\")\n",
    "# print(f\"עיבוד ושמירת חלק {i+1} הסתיים בהצלחה.\")\n",
    "print(i)"
   ]
  },
  {
   "cell_type": "code",
   "execution_count": 9,
   "metadata": {},
   "outputs": [
    {
     "name": "stdout",
     "output_type": "stream",
     "text": [
      "Data loaded from save_embded/embeddings_step1heBERT.pkl\n",
      "נתונים שמורים נטענו בהצלחה.\n",
      "123792\n"
     ]
    }
   ],
   "source": [
    "\n",
    "\n",
    "import numpy as np\n",
    "import os\n",
    "# from google.colab import files\n",
    "batch_size = 100\n",
    "your_embedding_dimension = 768  # או כל מספר אחר בהתאם למודל שלך\n",
    "\n",
    "def get_batches(data, batch_size):\n",
    "    for i in range(0, len(data), batch_size):\n",
    "        yield data[i:i + batch_size]\n",
    "\n",
    "embeddings_filename = \"save_embded/embeddings_step1heBERT.pkl\"\n",
    "\n",
    "# טען את הנתונים השמורים, אם קיימים\n",
    "embeddings = load_from_pickle(embeddings_filename)\n",
    "if embeddings is None:\n",
    "    embeddings = np.array([]).reshape(0, your_embedding_dimension)  # וודא שהגדרת את your_embedding_dimension\n",
    "else:\n",
    "    print(\"נתונים שמורים נטענו בהצלחה.\")\n",
    "\n",
    "# קביעת נקודת התחלה לעיבוד\n",
    "start_index = len(embeddings)\n",
    "print(start_index)\n",
    "for i, batch in enumerate(get_batches(questions, batch_size)):\n",
    "    if i * batch_size < start_index:\n",
    "        continue  # דלג על חלקים שכבר חושבו ושמורים\n",
    "\n",
    "    # המרת כל השאלות ל-embeddings\n",
    "    batch_embeddings = embeddingVectors(questions).numpy()\n",
    "\n",
    "   # שמור את החלק הנוכחי ל-embeddings2 ושמור לקובץ\n",
    "    embeddings = np.vstack([embeddings, batch_embeddings])\n",
    "    save_to_pickle(embeddings, embeddings_filename)\n",
    "\n",
    "\n",
    "    "
   ]
  },
  {
   "cell_type": "code",
   "execution_count": 9,
   "metadata": {},
   "outputs": [
    {
     "name": "stdout",
     "output_type": "stream",
     "text": [
      "51\n"
     ]
    }
   ],
   "source": [
    "print(i)"
   ]
  },
  {
   "cell_type": "code",
   "execution_count": 10,
   "metadata": {},
   "outputs": [
    {
     "name": "stdout",
     "output_type": "stream",
     "text": [
      "Data loaded from save_embded/embeddings_step1heBERT.pkl\n",
      "Data loaded from save_embded/index_step21heBERT.pkl\n"
     ]
    }
   ],
   "source": [
    "import faiss\n",
    "\n",
    "# טען את ה-embeddings ששמרת\n",
    "\n",
    "embeddings = load_from_pickle(\"save_embded/embeddings_step1heBERT.pkl\")\n",
    "\n",
    "# שלב נוסף - בניית FAISS index\n",
    "index_filename = \"save_embded/index_step21heBERT.pkl\"\n",
    "\n",
    "index = load_from_pickle(index_filename)\n",
    "if index is None:\n",
    "    # יצירת האינדקס אם הוא לא נטען מקובץ\n",
    "    dimension2 = embeddings.shape[1]\n",
    "    index = faiss.IndexFlatL2(dimension2)\n",
    "    index.add(embeddings)\n",
    "    print(index)\n",
    "    save_to_pickle(index, index_filename)"
   ]
  },
  {
   "cell_type": "code",
   "execution_count": 16,
   "metadata": {},
   "outputs": [],
   "source": [
    "\n",
    "\n",
    "# פונקציה למציאת השאלות הקרובות ביותר\n",
    "def find_nearest_questions(query, k=5):\n",
    "    query_embedding = embeddingVectors([query]).cpu().numpy()\n",
    "    print(1)\n",
    "    print(index)\n",
    "    distances, indices = index.search(query_embedding, k)\n",
    "    nearest_questions = [questions[idx] for idx in indices[0]]\n",
    "    return nearest_questions\n",
    "\n"
   ]
  },
  {
   "cell_type": "code",
   "execution_count": 12,
   "metadata": {},
   "outputs": [],
   "source": [
    "# פונקציה לרנקר (הדוגמה היא פשוטה. ניתן לשפר בהתאם לצורך)\n",
    "def rerank_documents1(query, documents, top_n=5):\n",
    "    # המרת השאלה ל-embedding\n",
    "    query_embedding = embeddingVectors([query]).numpy()\n",
    "\n",
    "    # המרת המסמכים ל-embeddings\n",
    "    doc_embeddings = embeddingVectors(documents).numpy()\n",
    "\n",
    "    # חישוב המרחקים\n",
    "    distances = np.linalg.norm(doc_embeddings - query_embedding, axis=1)\n",
    "\n",
    "    # מציאת האינדקסים של המסמכים הקרובים ביותר\n",
    "    nearest_indices = distances.argsort()[:top_n]\n",
    "\n",
    "    # החזרת המסמכים המסודרים לפי הקרבה\n",
    "    reranked_documents = [documents[idx] for idx in nearest_indices]\n",
    "    return reranked_documents\n",
    "\n",
    "def rerank_documents(query, docs, top_n):\n",
    "    results = co.rerank(model=\"rerank-multilingual-v3.0\", query=query, documents=docs, top_n=top_n, return_documents=True)\n",
    "    reranked_docs = [res.document.text for res in results.results]\n",
    "    return reranked_docs\n",
    "\n",
    "\n"
   ]
  },
  {
   "cell_type": "code",
   "execution_count": 17,
   "metadata": {},
   "outputs": [
    {
     "name": "stdout",
     "output_type": "stream",
     "text": [
      "['האם נשים חיבות בתפילה']\n",
      "1\n",
      "<faiss.swigfaiss_avx2.IndexFlatL2; proxy of <Swig Object of type 'faiss::IndexFlatL2 *' at 0x000001EE2ABB71B0> >\n"
     ]
    },
    {
     "ename": "",
     "evalue": "",
     "output_type": "error",
     "traceback": [
      "\u001b[1;31mThe Kernel crashed while executing code in the current cell or a previous cell. \n",
      "\u001b[1;31mPlease review the code in the cell(s) to identify a possible cause of the failure. \n",
      "\u001b[1;31mClick <a href='https://aka.ms/vscodeJupyterKernelCrash'>here</a> for more info. \n",
      "\u001b[1;31mView Jupyter <a href='command:jupyter.viewOutput'>log</a> for further details."
     ]
    }
   ],
   "source": [
    "# שאלה לדוגמה\n",
    "query = \"האם נשים חיבות בתפילה\"\n",
    "\n",
    "# מציאת השאלות הקרובות ביותר\n",
    "nearest_questions = find_nearest_questions(query, k=10)\n",
    "\n",
    "# רנקר על התוצאות הקרובות ביותר\n",
    "reranked_questions = rerank_documents(query, nearest_questions, top_n=5)\n",
    "\n",
    "print(\"השאלות הקרובות ביותר לשאלה שלך הן:\")\n",
    "for q in reranked_questions:\n",
    "    print(q)"
   ]
  }
 ],
 "metadata": {
  "kernelspec": {
   "display_name": "Python 3",
   "language": "python",
   "name": "python3"
  },
  "language_info": {
   "codemirror_mode": {
    "name": "ipython",
    "version": 3
   },
   "file_extension": ".py",
   "mimetype": "text/x-python",
   "name": "python",
   "nbconvert_exporter": "python",
   "pygments_lexer": "ipython3",
   "version": "3.12.6"
  }
 },
 "nbformat": 4,
 "nbformat_minor": 2
}
